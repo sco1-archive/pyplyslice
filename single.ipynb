{
 "cells": [
  {
   "cell_type": "markdown",
   "metadata": {},
   "source": [
    "# Single Scan Processing\n",
    "\n",
    "This notebook lays out the processing flow for a single scan file."
   ]
  },
  {
   "cell_type": "code",
   "execution_count": null,
   "metadata": {},
   "outputs": [],
   "source": [
    "import tkinter as tk\n",
    "from pathlib import Path\n",
    "from tkinter import filedialog\n",
    "\n",
    "from pyplyslice import io as plyio\n",
    "\n",
    "\n",
    "def prompt_for_file() -> Path:\n",
    "    root = tk.Tk()\n",
    "    root.withdraw()\n",
    "\n",
    "    return Path(filedialog.askopenfilename(title=\"Select File\", multiple=False))"
   ]
  },
  {
   "cell_type": "code",
   "execution_count": null,
   "metadata": {},
   "outputs": [],
   "source": [
    "# scan_filepath = Path(\"Path/to/scan/file\")  # Manually specify path to scan file\n",
    "scan_filepath = prompt_for_file()  # Prompt for path to scan file\n",
    "\n",
    "# Output CSV file name will be built as `<scan_name>_zslice_<slice_z>.CSV`\n",
    "# In the same directory as the input scan file\n",
    "plyio.slice_pipeline(scan_filepath)"
   ]
  }
 ],
 "metadata": {
  "kernelspec": {
   "display_name": "Python 3.8.2 64-bit",
   "language": "python",
   "name": "python38264bit93cee484a0ec4468b0108c6bdb30f7ea"
  },
  "language_info": {
   "codemirror_mode": {
    "name": "ipython",
    "version": 3
   },
   "file_extension": ".py",
   "mimetype": "text/x-python",
   "name": "python",
   "nbconvert_exporter": "python",
   "pygments_lexer": "ipython3",
   "version": "3.8.2"
  }
 },
 "nbformat": 4,
 "nbformat_minor": 4
}