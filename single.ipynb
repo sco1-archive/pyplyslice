{
 "cells": [
  {
   "cell_type": "markdown",
   "metadata": {},
   "source": [
    "# Single Scan Processing\n",
    "\n",
    "This notebook lays out the processing flow for a single scan file.\n",
    "\n",
    "Two approaches are provided:\n",
    "  * Manual specification of the slice height, `Z'`\n",
    "  * Parsing of the slice height, `Z'`, from a landmark spreadsheet"
   ]
  },
  {
   "cell_type": "code",
   "execution_count": null,
   "metadata": {},
   "outputs": [],
   "source": [
    "from pathlib import Path\n",
    "\n",
    "from pyplyslice import io"
   ]
  },
  {
   "cell_type": "markdown",
   "metadata": {},
   "source": [
    "### Approach A: Manual Specification"
   ]
  },
  {
   "cell_type": "code",
   "execution_count": null,
   "metadata": {},
   "outputs": [],
   "source": [
    "scan_filepath = Path(\"Path/to/scan/file\")\n",
    "slice_z = 12.34  # Z', units are assumed to match the scan file\n",
    "\n",
    "# Output CSV file name will be built as `<scan_name>_zslice_<slice_z>.CSV`\n",
    "# In the same directory as the input scan file\n",
    "io.slice_pipeline(scan_filepath, slice_z)"
   ]
  },
  {
   "cell_type": "markdown",
   "metadata": {},
   "source": [
    "### Approach B: Landmark Spreadsheet Key\n",
    "This approach assumes that the provided key spreadsheet contains at least the following (case-sensitive) columns:\n",
    "  * `FileName`\n",
    "  * `Z'`\n",
    "  \n",
    "`FileName` is used to match the scan file to its corresponding `Z'` value. If a scan file does not have a corresponding `FileName` entry in the spreadsheet, it is ignored.\n",
    "\n",
    "All other columns are ignored."
   ]
  },
  {
   "cell_type": "code",
   "execution_count": null,
   "metadata": {},
   "outputs": [],
   "source": [
    "scan_filepath = Path(\"Path/to/scan/file\")\n",
    "key_spreadsheet = Path(\"Path/to/key/spreadsheet\")\n",
    "\n",
    "slice_heights = io.parse_slice_heights(key_spreadsheet)\n",
    "filename = scan_filepath.stem\n",
    "slice_z = slice_heights.get(filename)\n",
    "\n",
    "if slice_z:\n",
    "    io.slice_pipeline(scan_filepath, slice_z)\n",
    "else:\n",
    "    print(f\"Could not find Z' for '{filename}'\")"
   ]
  }
 ],
 "metadata": {
  "kernelspec": {
   "display_name": "Python 3.8.2 64-bit",
   "language": "python",
   "name": "python38264bit93cee484a0ec4468b0108c6bdb30f7ea"
  },
  "language_info": {
   "codemirror_mode": {
    "name": "ipython",
    "version": 3
   },
   "file_extension": ".py",
   "mimetype": "text/x-python",
   "name": "python",
   "nbconvert_exporter": "python",
   "pygments_lexer": "ipython3",
   "version": "3.8.2"
  }
 },
 "nbformat": 4,
 "nbformat_minor": 4
}
