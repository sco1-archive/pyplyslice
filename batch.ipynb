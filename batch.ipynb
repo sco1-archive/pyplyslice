{
 "cells": [
  {
   "cell_type": "markdown",
   "metadata": {},
   "source": [
    "# Batch PLY Processing\n",
    "\n",
    "This notebook lays out the processing flow for a directory of PLY files.\n",
    "\n",
    "This approach assumes that the provided key spreadsheet contains at least the following (case-sensitive) columns:\n",
    "  * `FileName`\n",
    "  * `Z'`\n",
    "  \n",
    "`FileName` is used to match the scan file to its corresponding `Z'` value. If a scan file does not have a corresponding `FileName` entry in the spreadsheet, it is ignored.\n",
    "\n",
    "All other columns are ignored.\n",
    "\n",
    "To simplify path case-sensitivity considerations for operating systems that are not Windows, scan file extensions are assumed to always be lowercase (`\".ply\"`)."
   ]
  },
  {
   "cell_type": "code",
   "execution_count": null,
   "metadata": {},
   "outputs": [],
   "source": [
    "from pathlib import Path\n",
    "\n",
    "from pyplyslice import io\n",
    "\n",
    "\n",
    "scan_directory = Path(\"Path/to/directory/of/scans\")\n",
    "key_spreadsheet = Path(\"Path/to/key/spreadsheet\")\n",
    "\n",
    "# Can optionally flip the `recurse` boolean to recursively scan for PLY files\n",
    "io.batch_slice_pipeline(scan_directory, key_spreadsheet, recurse=False)"
   ]
  }
 ],
 "metadata": {
  "kernelspec": {
   "display_name": "Python 3.8.2 64-bit",
   "language": "python",
   "name": "python38264bit93cee484a0ec4468b0108c6bdb30f7ea"
  },
  "language_info": {
   "codemirror_mode": {
    "name": "ipython",
    "version": 3
   },
   "file_extension": ".py",
   "mimetype": "text/x-python",
   "name": "python",
   "nbconvert_exporter": "python",
   "pygments_lexer": "ipython3",
   "version": "3.8.2"
  }
 },
 "nbformat": 4,
 "nbformat_minor": 4
}