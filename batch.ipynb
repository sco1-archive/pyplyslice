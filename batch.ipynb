{
 "cells": [
  {
   "cell_type": "markdown",
   "metadata": {},
   "source": [
    "# Batch PLY Processing\n",
    "\n",
    "This notebook lays out the processing flow for a directory of PLY files.\n",
    "\n",
    "To simplify path case-sensitivity considerations for operating systems that are not Windows, scan file extensions are assumed to always be lowercase (`\".ply\"`)."
   ]
  },
  {
   "cell_type": "code",
   "execution_count": null,
   "metadata": {},
   "outputs": [],
   "source": [
    "import tkinter as tk\n",
    "from pathlib import Path\n",
    "from tkinter import filedialog\n",
    "\n",
    "from pyplyslice import io as plyio\n",
    "\n",
    "\n",
    "def prompt_for_dir() -> Path:  # pragma: no cover\n",
    "    root = tk.Tk()\n",
    "    root.withdraw()\n",
    "\n",
    "    return Path(filedialog.askdirectory(title=\"Select directory\"))"
   ]
  },
  {
   "cell_type": "code",
   "execution_count": null,
   "metadata": {},
   "outputs": [],
   "source": [
    "# scan_directory = Path(\"Path/to/directory/of/scans\")  # Manually specify path to scan directory\n",
    "scan_directory = prompt_for_dir()  # Prompt for path to scan directory\n",
    "\n",
    "# Can optionally flip the `recurse` boolean to recursively scan for PLY files\n",
    "plyio.batch_slice_pipeline(scan_directory, recurse=False)"
   ]
  },
  {
   "cell_type": "code",
   "execution_count": null,
   "metadata": {},
   "outputs": [],
   "source": []
  }
 ],
 "metadata": {
  "kernelspec": {
   "display_name": "Python 3.8.2 64-bit",
   "language": "python",
   "name": "python38264bit93cee484a0ec4468b0108c6bdb30f7ea"
  },
  "language_info": {
   "codemirror_mode": {
    "name": "ipython",
    "version": 3
   },
   "file_extension": ".py",
   "mimetype": "text/x-python",
   "name": "python",
   "nbconvert_exporter": "python",
   "pygments_lexer": "ipython3",
   "version": "3.8.2"
  }
 },
 "nbformat": 4,
 "nbformat_minor": 4
}